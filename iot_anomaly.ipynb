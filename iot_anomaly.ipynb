{
 "cells": [
  {
   "cell_type": "markdown",
   "id": "3b046487",
   "metadata": {},
   "source": [
    "# 📂 IoT Sensor Anomaly Detection\n",
    "This notebook demonstrates anomaly detection on IoT sensor data using Z-Score, Isolation Forest, and Rolling Mean methods."
   ]
  },
  {
   "cell_type": "code",
   "execution_count": null,
   "id": "c7213d45",
   "metadata": {},
   "outputs": [],
   "source": [
    "\n",
    "import pandas as pd\n",
    "import numpy as np\n",
    "import matplotlib.pyplot as plt\n",
    "from sklearn.ensemble import IsolationForest\n"
   ]
  },
  {
   "cell_type": "code",
   "execution_count": null,
   "id": "f9f1f286",
   "metadata": {},
   "outputs": [],
   "source": [
    "\n",
    "# Load dataset\n",
    "df = pd.read_csv(\"../data/sensor.csv\", parse_dates=[\"date\"])\n",
    "df.set_index(\"date\", inplace=True)\n",
    "\n",
    "# Preview\n",
    "df.head()\n"
   ]
  },
  {
   "cell_type": "markdown",
   "id": "25ad2a4e",
   "metadata": {},
   "source": [
    "## 1️⃣ Z-Score Anomaly Detection"
   ]
  },
  {
   "cell_type": "code",
   "execution_count": null,
   "id": "69d42841",
   "metadata": {},
   "outputs": [],
   "source": [
    "\n",
    "df[\"z_score\"] = (df[\"temperature\"] - df[\"temperature\"].mean()) / df[\"temperature\"].std()\n",
    "df[\"z_anomaly\"] = df[\"z_score\"].apply(lambda x: 1 if np.abs(x) > 2.5 else 0)\n",
    "\n",
    "# Plot\n",
    "plt.figure(figsize=(14,5))\n",
    "plt.plot(df.index, df[\"temperature\"], marker=\"o\", label=\"Temperature\")\n",
    "plt.scatter(df.index[df[\"z_anomaly\"]==1], df[\"temperature\"][df[\"z_anomaly\"]==1],\n",
    "            color=\"red\", label=\"Z-Score Anomaly\", s=80)\n",
    "plt.title(\"Z-Score Anomaly Detection\")\n",
    "plt.xlabel(\"Date\")\n",
    "plt.ylabel(\"Temperature (°C)\")\n",
    "plt.legend()\n",
    "plt.show()\n"
   ]
  },
  {
   "cell_type": "markdown",
   "id": "ca815e05",
   "metadata": {},
   "source": [
    "## 2️⃣ Isolation Forest Anomaly Detection"
   ]
  },
  {
   "cell_type": "code",
   "execution_count": null,
   "id": "4d3de2a1",
   "metadata": {},
   "outputs": [],
   "source": [
    "\n",
    "model = IsolationForest(contamination=0.05, random_state=42)\n",
    "df[\"iforest_anomaly\"] = model.fit_predict(df[[\"temperature\"]])\n",
    "df[\"iforest_anomaly\"] = df[\"iforest_anomaly\"].apply(lambda x: 1 if x == -1 else 0)\n",
    "\n",
    "# Plot\n",
    "plt.figure(figsize=(14,5))\n",
    "plt.plot(df.index, df[\"temperature\"], marker=\"o\", label=\"Temperature\")\n",
    "plt.scatter(df.index[df[\"iforest_anomaly\"]==1], df[\"temperature\"][df[\"iforest_anomaly\"]==1],\n",
    "            color=\"blue\", label=\"Isolation Forest Anomaly\", s=80)\n",
    "plt.title(\"Isolation Forest Anomaly Detection\")\n",
    "plt.xlabel(\"Date\")\n",
    "plt.ylabel(\"Temperature (°C)\")\n",
    "plt.legend()\n",
    "plt.show()\n"
   ]
  },
  {
   "cell_type": "markdown",
   "id": "e1efabd4",
   "metadata": {},
   "source": [
    "## 3️⃣ Rolling Mean / Moving Average Anomaly Detection"
   ]
  },
  {
   "cell_type": "code",
   "execution_count": null,
   "id": "847616d0",
   "metadata": {},
   "outputs": [],
   "source": [
    "\n",
    "window = 7  # 7-day rolling window\n",
    "df[\"rolling_mean\"] = df[\"temperature\"].rolling(window=window).mean()\n",
    "df[\"rolling_std\"] = df[\"temperature\"].rolling(window=window).std()\n",
    "df[\"rolling_anomaly\"] = ((df[\"temperature\"] - df[\"rolling_mean\"]).abs() > 2.5 * df[\"rolling_std\"]).astype(int)\n",
    "\n",
    "# Plot\n",
    "plt.figure(figsize=(14,5))\n",
    "plt.plot(df.index, df[\"temperature\"], marker=\"o\", label=\"Temperature\")\n",
    "plt.plot(df.index, df[\"rolling_mean\"], linestyle=\"--\", color=\"green\", label=\"Rolling Mean\")\n",
    "plt.scatter(df.index[df[\"rolling_anomaly\"]==1], df[\"temperature\"][df[\"rolling_anomaly\"]==1],\n",
    "            color=\"orange\", label=\"Rolling Mean Anomaly\", s=80)\n",
    "plt.title(\"Rolling Mean Anomaly Detection\")\n",
    "plt.xlabel(\"Date\")\n",
    "plt.ylabel(\"Temperature (°C)\")\n",
    "plt.legend()\n",
    "plt.show()\n"
   ]
  },
  {
   "cell_type": "markdown",
   "id": "c15c21f3",
   "metadata": {},
   "source": [
    "## 4️⃣ Save Anomalies to CSV"
   ]
  },
  {
   "cell_type": "code",
   "execution_count": null,
   "id": "098cdebd",
   "metadata": {},
   "outputs": [],
   "source": [
    "\n",
    "df.to_csv(\"../data/sensor_anomalies_detected.csv\")\n",
    "print(\"Anomaly detection complete. Results saved to 'sensor_anomalies_detected.csv'\")\n"
   ]
  }
 ],
 "metadata": {},
 "nbformat": 4,
 "nbformat_minor": 5
}
